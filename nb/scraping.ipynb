{
 "cells": [
  {
   "cell_type": "code",
   "execution_count": null,
   "id": "93ae55e8",
   "metadata": {
    "lines_to_next_cell": 1
   },
   "outputs": [],
   "source": [
    "import os\n",
    "import sqlite3\n",
    "import numpy as np\n",
    "import pandas as pd\n",
    "import plotly.io as pio\n",
    "import requests\n",
    "import time\n",
    "\n",
    "import bs4\n",
    "from bs4 import BeautifulSoup as bs\n",
    "from selenium import webdriver\n",
    "from selenium.webdriver.common.by import By\n",
    "# import plotly.express as px\n",
    "from util import Crawler\n",
    "\n",
    "# plotly setup\n",
    "pio.renderers.default = 'notebook'\n",
    "pd.options.plotting.backend = 'plotly'\n",
    "\n",
    "def pwrite(fig, plt='/tmp/vis/plot.json'):\n",
    "    fig = fig.update_layout(autosize=False)\n",
    "    fig.write_json(plt)"
   ]
  },
  {
   "cell_type": "markdown",
   "id": "c6abc9c9",
   "metadata": {},
   "source": [
    "# Template Notebook\n",
    "https://www.mtggoldfish.com/"
   ]
  },
  {
   "cell_type": "code",
   "execution_count": null,
   "id": "29ff6c79",
   "metadata": {},
   "outputs": [],
   "source": [
    "with sqlite3.connect('./mtggf.db') as con:\n",
    "    res = con.execute(\"select * from pages where slug like '/deck%' limit 1\")\n",
    "    pages = res.fetchall()"
   ]
  },
  {
   "cell_type": "code",
   "execution_count": null,
   "id": "eab2aa50",
   "metadata": {},
   "outputs": [],
   "source": [
    "pages[0][0]"
   ]
  },
  {
   "cell_type": "code",
   "execution_count": null,
   "id": "828e5472",
   "metadata": {},
   "outputs": [],
   "source": [
    "soup.find('h4', class_=\"price-card-purchase-header\")"
   ]
  },
  {
   "cell_type": "code",
   "execution_count": null,
   "id": "5fe346ca",
   "metadata": {},
   "outputs": [],
   "source": [
    "soup = bs(pages[0][1], 'html.parser')\n",
    "deck = soup.find('div', class_='deck-container')"
   ]
  },
  {
   "cell_type": "code",
   "execution_count": null,
   "id": "d3589edc",
   "metadata": {},
   "outputs": [],
   "source": [
    "# process header\n",
    "header = deck.find('div', class_='header-container')\n",
    "\n",
    "title = header.find('h1', class_='title').text.replace('\\n', ' ').strip()\n",
    "pilot = header.find('span', class_='author').text.replace('\\n', ' ').strip()\n",
    "title = title.replace(pilot, '').strip()\n",
    "pilot = pilot.replace('by ', '')\n",
    "price = header.find('div', class_='paper').text.replace('\\xa0', '').strip()\n",
    "rarity = header.find('div', class_='header-prices-rarity')\n",
    "rarity = rarity.text.replace('\\xa0', ' ').strip().split(',')\n",
    "rarity = {label: int(count) for count, label in (r.strip().split(' ') for r in rarity) }\n",
    "\n",
    "title, pilot, rarity, price"
   ]
  },
  {
   "cell_type": "code",
   "execution_count": null,
   "id": "1b194b3f",
   "metadata": {},
   "outputs": [],
   "source": [
    "# process meta info\n",
    "meta = []\n",
    "br = soup.new_tag('br')\n",
    "\n",
    "info = deck.find('p', class_='deck-container-information')\n",
    "children = [c for c in info.children if c.text != '\\n']\n",
    "\n",
    "while True:\n",
    "    if br in children:\n",
    "        i = children.index(br)\n",
    "        slice = children[:i]\n",
    "        if slice:\n",
    "            meta.append(slice)\n",
    "        children = children[i+1:]\n",
    "    else:\n",
    "        meta.append(children)\n",
    "        break\n",
    "\n",
    "format = meta[0][0].text.strip().split(': ')[1]\n",
    "record = meta[1][2].strip(' ,\\n').split(',')\n",
    "place = record[0] if len(record) > 1 else None\n",
    "record = record[1] if place else record[0]\n",
    "event_name = meta[1][1].text\n",
    "event_slug = meta[1][1]['href']\n",
    "deck_source = meta[2][1]['href']\n",
    "archetype = meta[4][1].text\n",
    "archetype_slug = meta[4][1]['href']"
   ]
  },
  {
   "cell_type": "code",
   "execution_count": null,
   "id": "0aff56b6",
   "metadata": {},
   "outputs": [],
   "source": [
    "# process decklist\n",
    "decklist = deck.find('div', class_='deck-table-container')\n",
    "items = []\n",
    "for table in decklist.find_all('table'):\n",
    "    items += table.find_all('tr')"
   ]
  },
  {
   "cell_type": "code",
   "execution_count": null,
   "id": "2676fffa",
   "metadata": {},
   "outputs": [],
   "source": [
    "data = items[1].find_all('td')"
   ]
  },
  {
   "cell_type": "code",
   "execution_count": null,
   "id": "f4aa9d5f",
   "metadata": {},
   "outputs": [],
   "source": [
    "cards = []\n",
    "board = 'mainboard'\n",
    "for item in items:\n",
    "\n",
    "    if 'deck-category-header' in item.get('class', []):\n",
    "        if 'sideboard' in item.text.lower():\n",
    "            board = 'sideboard'\n",
    "        continue\n",
    "\n",
    "    card_a = item.find('span', class_='card_id').a\n",
    "    card_data = item.find_all('td')\n",
    "\n",
    "    count = int(card_data[0].text.strip())\n",
    "\n",
    "    cards.append((\n",
    "        card_a.text,\n",
    "        count,\n",
    "        board,\n",
    "        card_a['data-card-id'],\n",
    "        card_a['href']\n",
    "    ))"
   ]
  },
  {
   "cell_type": "code",
   "execution_count": null,
   "id": "66815e89",
   "metadata": {},
   "outputs": [],
   "source": [
    "cards"
   ]
  },
  {
   "cell_type": "code",
   "execution_count": null,
   "id": "04719078",
   "metadata": {},
   "outputs": [],
   "source": [
    "deck_table = soup.find('div', class_='deck-table-container')\n",
    "deck_table.find_all('tr')"
   ]
  },
  {
   "cell_type": "code",
   "execution_count": null,
   "id": "1bb93b18",
   "metadata": {
    "lines_to_next_cell": 0
   },
   "outputs": [],
   "source": []
  },
  {
   "cell_type": "code",
   "execution_count": null,
   "id": "e3fbcfe4",
   "metadata": {
    "lines_to_next_cell": 0
   },
   "outputs": [],
   "source": []
  },
  {
   "cell_type": "code",
   "execution_count": null,
   "id": "47e501ff",
   "metadata": {
    "lines_to_next_cell": 0
   },
   "outputs": [],
   "source": []
  },
  {
   "cell_type": "code",
   "execution_count": null,
   "id": "d7ee6614",
   "metadata": {
    "lines_to_next_cell": 0
   },
   "outputs": [],
   "source": []
  },
  {
   "cell_type": "code",
   "execution_count": null,
   "id": "63c0ef08",
   "metadata": {
    "lines_to_next_cell": 0
   },
   "outputs": [],
   "source": []
  },
  {
   "cell_type": "code",
   "execution_count": null,
   "id": "59a9ba33",
   "metadata": {
    "lines_to_next_cell": 0
   },
   "outputs": [],
   "source": []
  },
  {
   "cell_type": "code",
   "execution_count": null,
   "id": "ec7a415e",
   "metadata": {
    "lines_to_next_cell": 0
   },
   "outputs": [],
   "source": []
  },
  {
   "cell_type": "code",
   "execution_count": null,
   "id": "8696f6b5",
   "metadata": {
    "lines_to_next_cell": 0
   },
   "outputs": [],
   "source": []
  },
  {
   "cell_type": "code",
   "execution_count": null,
   "id": "a8773655",
   "metadata": {
    "lines_to_next_cell": 0
   },
   "outputs": [],
   "source": []
  },
  {
   "cell_type": "code",
   "execution_count": null,
   "id": "e11f7564",
   "metadata": {
    "lines_to_next_cell": 0
   },
   "outputs": [],
   "source": []
  },
  {
   "cell_type": "code",
   "execution_count": null,
   "id": "0d367fae",
   "metadata": {
    "lines_to_next_cell": 0
   },
   "outputs": [],
   "source": []
  },
  {
   "cell_type": "code",
   "execution_count": null,
   "id": "7c9e6366",
   "metadata": {
    "lines_to_next_cell": 0
   },
   "outputs": [],
   "source": []
  },
  {
   "cell_type": "code",
   "execution_count": null,
   "id": "52eb8836",
   "metadata": {
    "lines_to_next_cell": 0
   },
   "outputs": [],
   "source": []
  },
  {
   "cell_type": "code",
   "execution_count": null,
   "id": "4182a275",
   "metadata": {
    "lines_to_next_cell": 0
   },
   "outputs": [],
   "source": []
  },
  {
   "cell_type": "code",
   "execution_count": null,
   "id": "89605d6b",
   "metadata": {
    "lines_to_next_cell": 0
   },
   "outputs": [],
   "source": []
  },
  {
   "cell_type": "code",
   "execution_count": null,
   "id": "3e690b4a",
   "metadata": {
    "lines_to_next_cell": 0
   },
   "outputs": [],
   "source": []
  },
  {
   "cell_type": "code",
   "execution_count": null,
   "id": "2620047e",
   "metadata": {
    "lines_to_next_cell": 0
   },
   "outputs": [],
   "source": []
  },
  {
   "cell_type": "code",
   "execution_count": null,
   "id": "5b04ff09",
   "metadata": {
    "lines_to_next_cell": 0
   },
   "outputs": [],
   "source": []
  },
  {
   "cell_type": "code",
   "execution_count": null,
   "id": "b8c03dc0",
   "metadata": {
    "lines_to_next_cell": 0
   },
   "outputs": [],
   "source": []
  },
  {
   "cell_type": "code",
   "execution_count": null,
   "id": "96e3d98d",
   "metadata": {
    "lines_to_next_cell": 0
   },
   "outputs": [],
   "source": []
  },
  {
   "cell_type": "code",
   "execution_count": null,
   "id": "0b5dde41",
   "metadata": {
    "lines_to_next_cell": 0
   },
   "outputs": [],
   "source": []
  },
  {
   "cell_type": "code",
   "execution_count": null,
   "id": "d9c88f67",
   "metadata": {
    "lines_to_next_cell": 0
   },
   "outputs": [],
   "source": []
  },
  {
   "cell_type": "code",
   "execution_count": null,
   "id": "8c576da9",
   "metadata": {
    "lines_to_next_cell": 0
   },
   "outputs": [],
   "source": []
  },
  {
   "cell_type": "code",
   "execution_count": null,
   "id": "3fdbc8a8",
   "metadata": {
    "lines_to_next_cell": 0
   },
   "outputs": [],
   "source": []
  },
  {
   "cell_type": "code",
   "execution_count": null,
   "id": "7a8e9cf4",
   "metadata": {
    "lines_to_next_cell": 0
   },
   "outputs": [],
   "source": []
  },
  {
   "cell_type": "code",
   "execution_count": null,
   "id": "063379df",
   "metadata": {
    "lines_to_next_cell": 0
   },
   "outputs": [],
   "source": []
  },
  {
   "cell_type": "code",
   "execution_count": null,
   "id": "870d552a",
   "metadata": {
    "lines_to_next_cell": 0
   },
   "outputs": [],
   "source": []
  },
  {
   "cell_type": "code",
   "execution_count": null,
   "id": "56898e76",
   "metadata": {
    "lines_to_next_cell": 0
   },
   "outputs": [],
   "source": []
  },
  {
   "cell_type": "code",
   "execution_count": null,
   "id": "322fb1e1",
   "metadata": {
    "lines_to_next_cell": 0
   },
   "outputs": [],
   "source": []
  },
  {
   "cell_type": "code",
   "execution_count": null,
   "id": "4fbb5d56",
   "metadata": {
    "lines_to_next_cell": 0
   },
   "outputs": [],
   "source": []
  },
  {
   "cell_type": "code",
   "execution_count": null,
   "id": "bdfb7813",
   "metadata": {
    "lines_to_next_cell": 0
   },
   "outputs": [],
   "source": []
  },
  {
   "cell_type": "code",
   "execution_count": null,
   "id": "f3eca905",
   "metadata": {
    "lines_to_next_cell": 0
   },
   "outputs": [],
   "source": []
  },
  {
   "cell_type": "code",
   "execution_count": null,
   "id": "1c0f0d21",
   "metadata": {},
   "outputs": [],
   "source": []
  }
 ],
 "metadata": {
  "kernelspec": {
   "display_name": "Python3",
   "language": "python",
   "name": "Python3"
  }
 },
 "nbformat": 4,
 "nbformat_minor": 5
}
